{
 "cells": [
  {
   "cell_type": "code",
   "execution_count": null,
   "metadata": {},
   "outputs": [],
   "source": [
    "# you need to install cv2\n",
    "import cv2, os\n",
    "\n",
    "interval = 0.5 # every 0.5 seconds\n",
    "\n",
    "if __name__ == '__main__' :\n",
    "    video = cv2.VideoCapture(\"test_videos/challenge.mp4\");\n",
    "    # # Find OpenCV version\n",
    "    # (major_ver, minor_ver, subminor_ver) = (cv2.__version__).split('.')\n",
    "\n",
    "    # if int(major_ver)  < 3 :\n",
    "    #     fps = video.get(cv2.cv.CV_CAP_PROP_FPS)\n",
    "    #     print (\"Frames per second using video.get(cv2.cv.CV_CAP_PROP_FPS): {0}\".format(fps))\n",
    "    # else :\n",
    "    fps = round(video.get(cv2.CAP_PROP_FPS))\n",
    "    print (\"Frames per second using video.get(cv2.CAP_PROP_FPS) : {0}\".format(fps))\n",
    "\n",
    "    success, image = video.read()\n",
    "    image_count = 0\n",
    "    frame_count = 1\n",
    "    success = True\n",
    "\n",
    "    while success:\n",
    "        success, image = video.read()\n",
    "        # print('read a new frame:',success)\n",
    "        if frame_count == fps * interval:\n",
    "            image_count += 1\n",
    "            cv2.imwrite('test_images/challenge/image%d.jpg' % image_count, image)\n",
    "            print('success')\n",
    "            frame_count = 0\n",
    "        frame_count += 1\n",
    "    video.release(); "
   ]
  }
 ],
 "metadata": {
  "kernelspec": {
   "display_name": "Python 3",
   "language": "python",
   "name": "python3"
  },
  "language_info": {
   "codemirror_mode": {
    "name": "ipython",
    "version": 3
   },
   "file_extension": ".py",
   "mimetype": "text/x-python",
   "name": "python",
   "nbconvert_exporter": "python",
   "pygments_lexer": "ipython3",
   "version": "3.6.3"
  }
 },
 "nbformat": 4,
 "nbformat_minor": 2
}
